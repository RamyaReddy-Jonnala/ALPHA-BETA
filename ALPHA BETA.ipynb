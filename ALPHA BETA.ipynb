{
 "cells": [
  {
   "cell_type": "code",
   "execution_count": 7,
   "id": "34409421-afcd-4498-90cd-58c1574b4b76",
   "metadata": {},
   "outputs": [
    {
     "name": "stdout",
     "output_type": "stream",
     "text": [
      "Evaluated C1 = 5\n",
      "Evaluated C2 = -1\n",
      "Evaluated C3 = 4\n",
      "Evaluated C1 = 3\n",
      "Evaluated C2 = -2\n",
      "α cutoff at B2 (α=-1, β=-2)\n",
      "Evaluated C1 = 6\n",
      "Evaluated C2 = 1\n",
      "Evaluated C3 = 4\n",
      "Evaluated C4 = 2\n",
      "Evaluated C5 = 4\n",
      "Evaluated C6 = 7\n",
      "Evaluated C7 = 3\n",
      "Evaluated C8 = -3\n",
      "α cutoff at B3 (α=-1, β=-3)\n",
      "Optimal value: -1\n"
     ]
    }
   ],
   "source": [
    "class GameNode:\n",
    "    def __init__(self, node_type, label, value=None):\n",
    "        self.type = node_type  # 'MAX' or 'MIN'\n",
    "        self.label = label\n",
    "        self.value = value\n",
    "        self.children = []\n",
    "terminal_values = {\n",
    "    'B1': [5, -1, 4],     # C1-C3\n",
    "    'B2': [3, -2, -5, 9, 8], # C4-C8\n",
    "    'B3': [6, 1, 4, 2, 4, 7, 3, -3] # C9-C16\n",
    "}\n",
    "def build_tree():\n",
    "    root = GameNode('MAX', 'A')\n",
    "    for i in range(1, 4):\n",
    "        b_node = GameNode('MIN', f'B{i}')\n",
    "        terminals = terminal_values[f'B{i}']  \n",
    "        for j, val in enumerate(terminals, 1):\n",
    "            c_node = GameNode('MAX', f'C{len(b_node.children)+1}', val)\n",
    "            b_node.children.append(c_node)       \n",
    "        root.children.append(b_node)\n",
    "    return root\n",
    "def alpha_beta(node, α, β, is_max):\n",
    "    if not node.children:\n",
    "        print(f\"Evaluated {node.label} = {node.value}\")\n",
    "        return node.value  \n",
    "    if is_max:\n",
    "        value = -float('inf')\n",
    "        for child in node.children:\n",
    "            value = max(value, alpha_beta(child, α, β, False))\n",
    "            α = max(α, value)\n",
    "            if β <= α:\n",
    "                print(f\"β cutoff at {node.label} (α={α}, β={β})\")\n",
    "                break\n",
    "        return value\n",
    "    else:\n",
    "        value = float('inf')\n",
    "        for child in node.children:\n",
    "            value = min(value, alpha_beta(child, α, β, True))\n",
    "            β = min(β, value)\n",
    "            if β <= α:\n",
    "                print(f\"α cutoff at {node.label} (α={α}, β={β})\")\n",
    "                break\n",
    "        return value\n",
    "optimal = alpha_beta(build_tree(), -float('inf'), float('inf'), True)\n",
    "print(f\"Optimal value: {optimal}\")"
   ]
  },
  {
   "cell_type": "code",
   "execution_count": null,
   "id": "9d06433a-2088-4f8f-9bed-50a663152200",
   "metadata": {},
   "outputs": [],
   "source": []
  }
 ],
 "metadata": {
  "kernelspec": {
   "display_name": "Python 3 (ipykernel)",
   "language": "python",
   "name": "python3"
  },
  "language_info": {
   "codemirror_mode": {
    "name": "ipython",
    "version": 3
   },
   "file_extension": ".py",
   "mimetype": "text/x-python",
   "name": "python",
   "nbconvert_exporter": "python",
   "pygments_lexer": "ipython3",
   "version": "3.12.4"
  }
 },
 "nbformat": 4,
 "nbformat_minor": 5
}
